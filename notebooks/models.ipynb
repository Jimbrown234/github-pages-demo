{
  "cells": [
    {
      "cell_type": "markdown",
      "metadata": {
        "collapsed": true,
        "id": "uD-Gpqe_kk_S"
      },
      "source": [
        "\n",
        "- **Preprocess** - You'll convert text to sequence of integers. bosco\n",
        "- **Models** Create models which accepts a sequence of integers as input and returns a probability distribution over possible translations. After learning about the basic types of neural networks that are often used for machine translation, you will engage in your own investigations, to design your own model!\n",
        "- **Prediction** Run the model on English text."
      ]
    },
    {
      "cell_type": "code",
      "execution_count": null,
      "metadata": {
        "colab": {
          "base_uri": "https://localhost:8080/"
        },
        "id": "Iundwujxl8a-",
        "outputId": "b0cb535f-9549-4648-8fff-62da88077588"
      },
      "outputs": [
        {
          "name": "stdout",
          "output_type": "stream",
          "text": [
            "Reading package lists... Done\n",
            "Building dependency tree       \n",
            "Reading state information... Done\n",
            "libcudnn8 is already the newest version (8.1.0.77-1+cuda11.2).\n",
            "The following package was automatically installed and is no longer required:\n",
            "  libnvidia-common-510\n",
            "Use 'apt autoremove' to remove it.\n",
            "0 upgraded, 0 newly installed, 0 to remove and 19 not upgraded.\n"
          ]
        }
      ],
      "source": [
        "!apt install --allow-change-held-packages libcudnn8=8.1.0.77-1+cuda11.2\n",
        "!pip uninstall -y -q tensorflow keras tensorflow-estimator tensorflow-text\n",
        "!pip install -q tensorflow_datasets\n",
        "!pip install -q -U tensorflow-text tensorflow"
      ]
    },
    {
      "cell_type": "code",
      "execution_count": null,
      "metadata": {
        "id": "A6rlhuYmlMq0"
      },
      "outputs": [],
      "source": [
        "import tensorflow as tf"
      ]
    },
    {
      "cell_type": "code",
      "execution_count": null,
      "metadata": {
        "id": "3LTYhRk_nZoI"
      },
      "outputs": [],
      "source": [
        "from tensorflow.keras import Input, Sequential\n",
        "from tensorflow.keras.preprocessing.text import Tokenizer\n",
        "from tensorflow.keras.preprocessing.sequence import pad_sequences\n",
        "from tensorflow.keras.models import Model"
      ]
    },
    {
      "cell_type": "code",
      "execution_count": null,
      "metadata": {
        "id": "ezxU22O6kk_Y"
      },
      "outputs": [],
      "source": [
        "import collections\n",
        "import numpy as np\n",
        "from tensorflow.keras.layers import GRU, Input, Dense, TimeDistributed, Activation, RepeatVector, Bidirectional, LSTM\n",
        "from tensorflow.keras.layers import Embedding\n",
        "from tensorflow.keras.optimizers import Adam\n",
        "from tensorflow.keras.losses import sparse_categorical_crossentropy"
      ]
    },
    {
      "cell_type": "markdown",
      "metadata": {
        "id": "_GbpksPjkk_c"
      },
      "source": [
        "## Dataset\n",
        "We'll be using a dataset we created for this project that contains a small vocabulary from the kaggle dataset.\n",
        "### Load Data\n",
        "The data is located in `data/small_vocab_en` and `data/small_vocab_fr`. The `small_vocab_en` file contains English sentences with their French translations in the `small_vocab_fr` file. Load the English and French data from these files from running the cell below."
      ]
    },
    {
      "cell_type": "code",
      "execution_count": null,
      "metadata": {
        "id": "eq8Q38zsp0hR"
      },
      "outputs": [],
      "source": [
        "import importlib.util"
      ]
    },
    {
      "cell_type": "code",
      "execution_count": null,
      "metadata": {
        "id": "gjtXzMi1o9XD"
      },
      "outputs": [],
      "source": [
        "spec=importlib.util.spec_from_file_location(\"helper\",\"helper.py\")\n",
        "helper = importlib.util.module_from_spec(spec)\n",
        "spec.loader.exec_module(helper)"
      ]
    },
    {
      "cell_type": "code",
      "execution_count": null,
      "metadata": {
        "colab": {
          "base_uri": "https://localhost:8080/"
        },
        "id": "WT_iBtPLkk_c",
        "outputId": "7b4e227e-002b-4b03-a7cd-8f4fb2b9ab37"
      },
      "outputs": [
        {
          "name": "stdout",
          "output_type": "stream",
          "text": [
            "Dataset Loaded\n"
          ]
        }
      ],
      "source": [
        "# Load English data\n",
        "english_sentences = helper.load_data('/data/small_vocab_en')\n",
        "# Load French data\n",
        "french_sentences = helper.load_data('/data/small_vocab_fr')"
      ]
    },
    {
      "cell_type": "markdown",
      "metadata": {
        "id": "rZs3wWtZkk_d"
      },
      "source": [
        "### Files\n",
        "Each line in `small_vocab_en` contains an English sentence with the respective translation in each line of `small_vocab_fr`.  View the first two lines from each file."
      ]
    },
    {
      "cell_type": "code",
      "execution_count": null,
      "metadata": {
        "colab": {
          "base_uri": "https://localhost:8080/"
        },
        "id": "bXVAuzlHkk_e",
        "outputId": "fe31bb9e-0ee7-4570-f1b1-b3ef43e316c1"
      },
      "outputs": [
        {
          "name": "stdout",
          "output_type": "stream",
          "text": [
            "small_vocab_en Line 1:  new jersey is sometimes quiet during autumn , and it is snowy in april .\n",
            "small_vocab_fr Line 1:  new jersey est parfois calme pendant l' automne , et il est neigeux en avril .\n",
            "small_vocab_en Line 2:  the united states is usually chilly during july , and it is usually freezing in november .\n",
            "small_vocab_fr Line 2:  les états-unis est généralement froid en juillet , et il gèle habituellement en novembre .\n"
          ]
        }
      ],
      "source": [
        "for sample_i in range(2):\n",
        "    print('small_vocab_en Line {}:  {}'.format(sample_i + 1, english_sentences[sample_i]))\n",
        "    print('small_vocab_fr Line {}:  {}'.format(sample_i + 1, french_sentences[sample_i]))"
      ]
    },
    {
      "cell_type": "markdown",
      "metadata": {
        "id": "RoEmIK03kk_f"
      },
      "source": [
        "### Vocabulary\n",
        "The complexity of the problem is determined by the complexity of the vocabulary.  A more complex vocabulary is a more complex problem."
      ]
    },
    {
      "cell_type": "code",
      "execution_count": null,
      "metadata": {
        "colab": {
          "base_uri": "https://localhost:8080/"
        },
        "id": "ZUfCromYkk_f",
        "outputId": "9ccf0b80-f2dc-40d3-92dc-e7ababaa75ff"
      },
      "outputs": [
        {
          "name": "stdout",
          "output_type": "stream",
          "text": [
            "1823250 English words.\n",
            "227 unique English words.\n",
            "10 Most common words in the English dataset:\n",
            "\"is\" \",\" \".\" \"in\" \"it\" \"during\" \"the\" \"but\" \"and\" \"sometimes\"\n",
            "\n",
            "1961295 French words.\n",
            "355 unique French words.\n",
            "10 Most common words in the French dataset:\n",
            "\"est\" \".\" \",\" \"en\" \"il\" \"les\" \"mais\" \"et\" \"la\" \"parfois\"\n"
          ]
        }
      ],
      "source": [
        "english_words_counter = collections.Counter([word for sentence in english_sentences for word in sentence.split()])\n",
        "french_words_counter = collections.Counter([word for sentence in french_sentences for word in sentence.split()])\n",
        "\n",
        "print('{} English words.'.format(len([word for sentence in english_sentences for word in sentence.split()])))\n",
        "print('{} unique English words.'.format(len(english_words_counter)))\n",
        "print('10 Most common words in the English dataset:')\n",
        "print('\"' + '\" \"'.join(list(zip(*english_words_counter.most_common(10)))[0]) + '\"')\n",
        "print()\n",
        "print('{} French words.'.format(len([word for sentence in french_sentences for word in sentence.split()])))\n",
        "print('{} unique French words.'.format(len(french_words_counter)))\n",
        "print('10 Most common words in the French dataset:')\n",
        "print('\"' + '\" \"'.join(list(zip(*french_words_counter.most_common(10)))[0]) + '\"')"
      ]
    },
    {
      "cell_type": "markdown",
      "metadata": {
        "id": "FVbWLwjekk_g"
      },
      "source": [
        "## Preprocess\n",
        "For this project, you won't use text data as input to your model. Instead, you'll convert the text into sequences of integers using the following preprocess methods:\n",
        "1. Tokenize the words into ids\n",
        "2. Add padding to make all the sequences the same length.\n",
        "\n",
        "### Tokenize (IMPLEMENTATION)\n",
        "These are called character and word ids, respectively.  Character ids are used for character level models that generate text predictions for each character.  A word level model uses word ids that generate text predictions for each word.\n",
        "\n",
        "Turn each sentence into a sequence of words ids using Keras's [`Tokenizer`](https://keras.io/preprocessing/text/#tokenizer) function. "
      ]
    },
    {
      "cell_type": "code",
      "execution_count": null,
      "metadata": {
        "colab": {
          "base_uri": "https://localhost:8080/"
        },
        "id": "mnxPFaILkk_g",
        "outputId": "dee4ce18-d5b1-4479-8675-c13e10d0959b"
      },
      "outputs": [
        {
          "name": "stdout",
          "output_type": "stream",
          "text": [
            "{'the': 1, 'quick': 2, 'a': 3, 'brown': 4, 'fox': 5, 'jumps': 6, 'over': 7, 'lazy': 8, 'dog': 9, 'by': 10, 'jove': 11, 'my': 12, 'study': 13, 'of': 14, 'lexicography': 15, 'won': 16, 'prize': 17, 'this': 18, 'is': 19, 'short': 20, 'sentence': 21}\n",
            "\n",
            "Sequence 1 in x\n",
            "  Input:  The quick brown fox jumps over the lazy dog .\n",
            "  Output: [1, 2, 4, 5, 6, 7, 1, 8, 9]\n",
            "Sequence 2 in x\n",
            "  Input:  By Jove , my quick study of lexicography won a prize .\n",
            "  Output: [10, 11, 12, 2, 13, 14, 15, 16, 3, 17]\n",
            "Sequence 3 in x\n",
            "  Input:  This is a short sentence .\n",
            "  Output: [18, 19, 3, 20, 21]\n"
          ]
        }
      ],
      "source": [
        "def tokenize(x):\n",
        "    \"\"\"\n",
        "    Tokenize x\n",
        "    :param x: List of sentences/strings to be tokenized\n",
        "    :return: Tuple of (tokenized x data, tokenizer used to tokenize x)\n",
        "    \"\"\"\n",
        "    # TODO: Implement\n",
        "    tokenizer = Tokenizer(split=' ', char_level=False)\n",
        "    tokenizer.fit_on_texts(x)\n",
        "    return tokenizer.texts_to_sequences(x), tokenizer           # texts_to_sequences_generator(), Yields individual sequences.\n",
        "\n",
        "# tests.test_tokenize(tokenize)\n",
        "\n",
        "# Tokenize Example output\n",
        "text_sentences = [\n",
        "    'The quick brown fox jumps over the lazy dog .',\n",
        "    'By Jove , my quick study of lexicography won a prize .',\n",
        "    'This is a short sentence .']\n",
        "text_tokenized, text_tokenizer = tokenize(text_sentences)\n",
        "print(text_tokenizer.word_index)\n",
        "print()\n",
        "for sample_i, (sent, token_sent) in enumerate(zip(text_sentences, text_tokenized)):\n",
        "    print('Sequence {} in x'.format(sample_i + 1))\n",
        "    print('  Input:  {}'.format(sent))\n",
        "    print('  Output: {}'.format(token_sent))"
      ]
    },
    {
      "cell_type": "markdown",
      "metadata": {
        "id": "tETWOoCkkk_g"
      },
      "source": [
        "### Padding (IMPLEMENTATION)\n",
        "When batching the sequence of word ids together, each sequence needs to be the same length.  Since sentences are dynamic in length, we can add padding to the end of the sequences to make them the same length.\n",
        "\n",
        "Make sure all the English sequences have the same length and all the French sequences have the same length by adding padding to the **end** of each sequence using Keras's [`pad_sequences`](https://keras.io/preprocessing/sequence/#pad_sequences) function."
      ]
    },
    {
      "cell_type": "code",
      "execution_count": null,
      "metadata": {
        "colab": {
          "base_uri": "https://localhost:8080/"
        },
        "id": "EUTCHSVtkk_h",
        "outputId": "6dc810be-3603-4158-e46f-de4b1d975f35"
      },
      "outputs": [
        {
          "data": {
            "text/plain": [
              "[[1, 2, 4, 5, 6, 7, 1, 8, 9],\n",
              " [10, 11, 12, 2, 13, 14, 15, 16, 3, 17],\n",
              " [18, 19, 3, 20, 21]]"
            ]
          },
          "execution_count": 42,
          "metadata": {},
          "output_type": "execute_result"
        }
      ],
      "source": [
        "text_tokenized"
      ]
    },
    {
      "cell_type": "code",
      "execution_count": null,
      "metadata": {
        "colab": {
          "base_uri": "https://localhost:8080/"
        },
        "id": "bJ9iMPZtkk_h",
        "outputId": "16a677ad-8dfe-4602-bc80-8e19c6da17dc"
      },
      "outputs": [
        {
          "name": "stdout",
          "output_type": "stream",
          "text": [
            "Sequence 1 in x\n",
            "  Input:  [1 2 4 5 6 7 1 8 9]\n",
            "  Output: [1 2 4 5 6 7 1 8 9 0]\n",
            "Sequence 2 in x\n",
            "  Input:  [10 11 12  2 13 14 15 16  3 17]\n",
            "  Output: [10 11 12  2 13 14 15 16  3 17]\n",
            "Sequence 3 in x\n",
            "  Input:  [18 19  3 20 21]\n",
            "  Output: [18 19  3 20 21  0  0  0  0  0]\n"
          ]
        }
      ],
      "source": [
        "def pad(x, length=None):\n",
        "    \"\"\"\n",
        "    Pad x\n",
        "    :param x: List of sequences.\n",
        "    :param length: Length to pad the sequence to.  If None, use length of longest sequence in x.\n",
        "    :return: Padded numpy array of sequences\n",
        "    \"\"\"\n",
        "    # TODO: Implement\n",
        "    if length is None:\n",
        "        length = max([len(sentence) for sentence in x])\n",
        "    \n",
        "    return pad_sequences(x, maxlen=length, padding='post', truncating='post')\n",
        "\n",
        "# tests.test_pad(pad)\n",
        "\n",
        "# Pad Tokenized output\n",
        "test_pad = pad(text_tokenized)\n",
        "for sample_i, (token_sent, pad_sent) in enumerate(zip(text_tokenized, test_pad)):\n",
        "    print('Sequence {} in x'.format(sample_i + 1))\n",
        "    print('  Input:  {}'.format(np.array(token_sent)))\n",
        "    print('  Output: {}'.format(pad_sent))"
      ]
    },
    {
      "cell_type": "markdown",
      "metadata": {
        "id": "d4bp1GN6kk_i"
      },
      "source": [
        "### Preprocess Pipeline"
      ]
    },
    {
      "cell_type": "code",
      "execution_count": null,
      "metadata": {
        "colab": {
          "base_uri": "https://localhost:8080/"
        },
        "id": "R9tf8kYGkk_i",
        "outputId": "a7bca236-25c8-496f-d1e9-0b93d2ec35f8"
      },
      "outputs": [
        {
          "name": "stdout",
          "output_type": "stream",
          "text": [
            "Data Preprocessed\n",
            "Max English sentence length: 15\n",
            "Max French sentence length: 21\n",
            "English vocabulary size: 199\n",
            "French vocabulary size: 344\n"
          ]
        }
      ],
      "source": [
        "def preprocess(x, y):\n",
        "    \"\"\"\n",
        "    Preprocess x and y\n",
        "    :param x: Feature List of sentences\n",
        "    :param y: Label List of sentences\n",
        "    :return: Tuple of (Preprocessed x, Preprocessed y, x tokenizer, y tokenizer)\n",
        "    \"\"\"\n",
        "    preprocess_x, x_tk = tokenize(x)\n",
        "    preprocess_y, y_tk = tokenize(y)\n",
        "\n",
        "    preprocess_x = pad(preprocess_x)\n",
        "    preprocess_y = pad(preprocess_y)\n",
        "\n",
        "    # Keras's sparse_categorical_crossentropy function requires the labels to be in 3 dimensions\n",
        "    preprocess_y = preprocess_y.reshape(*preprocess_y.shape, 1)\n",
        "\n",
        "    return preprocess_x, preprocess_y, x_tk, y_tk\n",
        "\n",
        "preproc_english_sentences, preproc_french_sentences, english_tokenizer, french_tokenizer =\\\n",
        "    preprocess(english_sentences, french_sentences)\n",
        "    \n",
        "max_english_sequence_length = preproc_english_sentences.shape[1]\n",
        "max_french_sequence_length = preproc_french_sentences.shape[1]\n",
        "english_vocab_size = len(english_tokenizer.word_index)\n",
        "french_vocab_size = len(french_tokenizer.word_index)\n",
        "\n",
        "print('Data Preprocessed')\n",
        "print(\"Max English sentence length:\", max_english_sequence_length)\n",
        "print(\"Max French sentence length:\", max_french_sequence_length)\n",
        "print(\"English vocabulary size:\", english_vocab_size)\n",
        "print(\"French vocabulary size:\", french_vocab_size)"
      ]
    },
    {
      "cell_type": "code",
      "execution_count": null,
      "metadata": {
        "colab": {
          "base_uri": "https://localhost:8080/"
        },
        "id": "hHArls3ckk_j",
        "outputId": "794f1a5f-72ec-4136-f673-be3fdb3e9bd2"
      },
      "outputs": [
        {
          "name": "stdout",
          "output_type": "stream",
          "text": [
            "<class 'numpy.ndarray'>\n",
            "(137861, 15)\n"
          ]
        }
      ],
      "source": [
        "print(type(preproc_english_sentences))\n",
        "print(preproc_english_sentences.shape)"
      ]
    },
    {
      "cell_type": "markdown",
      "metadata": {
        "id": "hO-xXb3zkk_j"
      },
      "source": [
        "## Models\n",
        "In this section, you will experiment with various neural network architectures.\n",
        "You will begin by training four relatively simple architectures.\n",
        "- Model 1 is a simple RNN\n",
        "- Model 2 is a RNN with Embedding\n",
        "- Model 3 is a Bidirectional RNN\n",
        "- Model 4 is an optional Encoder-Decoder RNN\n",
        "\n",
        "After experimenting with the four simple architectures, you will construct a deeper architecture that is designed to outperform all four models.\n",
        "### Ids Back to Text\n",
        "The neural network will be translating the input to words ids, which isn't the final form we want.  We want the French translation.  The function `logits_to_text` will bridge the gab between the logits from the neural network to the French translation.  You'll be using this function to better understand the output of the neural network."
      ]
    },
    {
      "cell_type": "code",
      "execution_count": null,
      "metadata": {
        "colab": {
          "base_uri": "https://localhost:8080/"
        },
        "id": "oR1ygRfzkk_j",
        "outputId": "85d84a73-20c1-44b9-e186-772eb464e99b"
      },
      "outputs": [
        {
          "name": "stdout",
          "output_type": "stream",
          "text": [
            "`logits_to_text` function loaded.\n"
          ]
        }
      ],
      "source": [
        "def logits_to_text(logits, tokenizer):\n",
        "    \"\"\"\n",
        "    Turn logits from a neural network into text using the tokenizer\n",
        "    :param logits: Logits from a neural network\n",
        "    :param tokenizer: Keras Tokenizer fit on the labels\n",
        "    :return: String that represents the text of the logits\n",
        "    \"\"\"\n",
        "    index_to_words = {id: word for word, id in tokenizer.word_index.items()}\n",
        "    index_to_words[0] = '<PAD>'\n",
        "\n",
        "    return ' '.join([index_to_words[prediction] for prediction in np.argmax(logits, 1) if index_to_words[prediction]!='<PAD>'] )\n",
        "\n",
        "print('`logits_to_text` function loaded.')"
      ]
    },
    {
      "cell_type": "markdown",
      "metadata": {
        "id": "1xlOO7Wnkk_k"
      },
      "source": [
        "### Model 1: RNN (IMPLEMENTATION)\n",
        "RNN that translates English to French.\n",
        "\n",
        "#### Inputs/Outputs shape Basic RNN\n",
        "\n",
        "- LSTM or GRU Input shape (batchsize, timesteps, 1). The timesteps is the length of the input sequences (15 for en, 21 for fr)\n",
        "- output shape LSTM (batchsize, timesteps, num_units) because Return_sequence activated to return the output at each timestep\n",
        "- Use of TimeDistributed wrapper over Dense(unitsoutput=target_vocab_size) to process each timestep\n",
        "- for each time step, Dense outputs a probability distribution over target_vocab to predict next word"
      ]
    },
    {
      "cell_type": "code",
      "execution_count": null,
      "metadata": {
        "id": "5CMtk1Cjkk_k"
      },
      "outputs": [],
      "source": [
        "def token_to_words(sequence, tokenizer):\n",
        "    index_to_words = {id: word for word, id in tokenizer.word_index.items()}\n",
        "    index_to_words[0] = '<PAD>'\n",
        "\n",
        "    return [index_to_words[token] for token in sequence if index_to_words[token]!='<PAD>']"
      ]
    },
    {
      "cell_type": "code",
      "execution_count": null,
      "metadata": {
        "colab": {
          "base_uri": "https://localhost:8080/"
        },
        "id": "8DolmAE7kk_k",
        "outputId": "0ca3a3c3-8634-449c-cedd-0170a678a4f0",
        "scrolled": false
      },
      "outputs": [
        {
          "name": "stdout",
          "output_type": "stream",
          "text": [
            "Model: \"simple_LSTM\"\n",
            "_________________________________________________________________\n",
            " Layer (type)                Output Shape              Param #   \n",
            "=================================================================\n",
            " input_layer (InputLayer)    [(None, 21, 1)]           0         \n",
            "                                                                 \n",
            " LSTM_layer (LSTM)           (None, 21, 64)            16896     \n",
            "                                                                 \n",
            " Dense_layer (TimeDistribute  (None, 21, 344)          22360     \n",
            " d)                                                              \n",
            "                                                                 \n",
            "=================================================================\n",
            "Total params: 39,256\n",
            "Trainable params: 39,256\n",
            "Non-trainable params: 0\n",
            "_________________________________________________________________\n",
            "Epoch 1/20\n",
            "108/108 [==============================] - 5s 23ms/step - loss: 3.3893 - accuracy: 0.4248 - val_loss: nan - val_accuracy: 0.4598\n",
            "Epoch 2/20\n",
            "108/108 [==============================] - 2s 16ms/step - loss: 2.4018 - accuracy: 0.4747 - val_loss: nan - val_accuracy: 0.4882\n",
            "Epoch 3/20\n",
            "108/108 [==============================] - 2s 15ms/step - loss: 2.1121 - accuracy: 0.5118 - val_loss: nan - val_accuracy: 0.5414\n",
            "Epoch 4/20\n",
            "108/108 [==============================] - 2s 16ms/step - loss: 1.8982 - accuracy: 0.5562 - val_loss: nan - val_accuracy: 0.5742\n",
            "Epoch 5/20\n",
            "108/108 [==============================] - 2s 16ms/step - loss: 1.7594 - accuracy: 0.5787 - val_loss: nan - val_accuracy: 0.5830\n",
            "Epoch 6/20\n",
            "108/108 [==============================] - 2s 16ms/step - loss: 1.6732 - accuracy: 0.5840 - val_loss: nan - val_accuracy: 0.5888\n",
            "Epoch 7/20\n",
            "108/108 [==============================] - 2s 15ms/step - loss: 1.6116 - accuracy: 0.5926 - val_loss: nan - val_accuracy: 0.5976\n",
            "Epoch 8/20\n",
            "108/108 [==============================] - 2s 16ms/step - loss: 1.5611 - accuracy: 0.6008 - val_loss: nan - val_accuracy: 0.6035\n",
            "Epoch 9/20\n",
            "108/108 [==============================] - 2s 16ms/step - loss: 1.5172 - accuracy: 0.6089 - val_loss: nan - val_accuracy: 0.6106\n",
            "Epoch 10/20\n",
            "108/108 [==============================] - 2s 16ms/step - loss: 1.4793 - accuracy: 0.6140 - val_loss: nan - val_accuracy: 0.6190\n",
            "Epoch 11/20\n",
            "108/108 [==============================] - 2s 17ms/step - loss: 1.4447 - accuracy: 0.6205 - val_loss: nan - val_accuracy: 0.6258\n",
            "Epoch 12/20\n",
            "108/108 [==============================] - 2s 17ms/step - loss: 1.4125 - accuracy: 0.6272 - val_loss: nan - val_accuracy: 0.6334\n",
            "Epoch 13/20\n",
            "108/108 [==============================] - 2s 16ms/step - loss: 1.3834 - accuracy: 0.6321 - val_loss: nan - val_accuracy: 0.6356\n",
            "Epoch 14/20\n",
            "108/108 [==============================] - 2s 15ms/step - loss: 1.3580 - accuracy: 0.6370 - val_loss: nan - val_accuracy: 0.6395\n",
            "Epoch 15/20\n",
            "108/108 [==============================] - 2s 15ms/step - loss: 1.3355 - accuracy: 0.6396 - val_loss: nan - val_accuracy: 0.6395\n",
            "Epoch 16/20\n",
            "108/108 [==============================] - 2s 15ms/step - loss: 1.3160 - accuracy: 0.6418 - val_loss: nan - val_accuracy: 0.6434\n",
            "Epoch 17/20\n",
            "108/108 [==============================] - 2s 16ms/step - loss: 1.2981 - accuracy: 0.6439 - val_loss: nan - val_accuracy: 0.6450\n",
            "Epoch 18/20\n",
            "108/108 [==============================] - 2s 17ms/step - loss: 1.2821 - accuracy: 0.6458 - val_loss: nan - val_accuracy: 0.6464\n",
            "Epoch 19/20\n",
            "108/108 [==============================] - 2s 17ms/step - loss: 1.2665 - accuracy: 0.6476 - val_loss: nan - val_accuracy: 0.6471\n",
            "Epoch 20/20\n",
            "108/108 [==============================] - 2s 17ms/step - loss: 1.2534 - accuracy: 0.6482 - val_loss: nan - val_accuracy: 0.6478\n"
          ]
        },
        {
          "data": {
            "text/plain": [
              "<keras.callbacks.History at 0x7f98f10de1f0>"
            ]
          },
          "execution_count": 48,
          "metadata": {},
          "output_type": "execute_result"
        }
      ],
      "source": [
        "def simple_model(input_shape, output_sequence_length, english_vocab_size, french_vocab_size):\n",
        "    \"\"\"\n",
        "    Build and train a basic RNN on x and y\n",
        "    :param input_shape: Tuple of input shape\n",
        "    :param output_sequence_length: Length of output sequence\n",
        "    :param english_vocab_size: Number of unique English words in the dataset\n",
        "    :param french_vocab_size: Number of unique French words in the dataset\n",
        "    :return: Keras model built, but not trained\n",
        "    \"\"\"\n",
        "    # TODO: Build the layers\n",
        "    learning_rate = 0.001\n",
        "    english_input = Input(shape=input_shape[1:], name=\"input_layer\")    # the shape is (input length x 1) as batchsize excluded\n",
        "    \n",
        "    # LSTM takes as input (batchsize,input_length,1) and outputs (batchsize, input_length, 64) because return-seq=True\n",
        "    x = LSTM(64, return_sequences=True, activation=\"tanh\", name=\"LSTM_layer\")(english_input)\n",
        "    preds = TimeDistributed(Dense(french_vocab_size, activation=\"softmax\"), name=\"Dense_layer\")(x)\n",
        "    model = Model(inputs=english_input, outputs=preds, name='simple_LSTM')\n",
        "    \n",
        "    model.compile(loss=sparse_categorical_crossentropy,\n",
        "                  optimizer=Adam(learning_rate),\n",
        "                  metrics=['accuracy'])\n",
        "    \n",
        "    return model\n",
        "\n",
        "# tests.test_simple_model(simple_model)\n",
        "\n",
        "# Reshaping the input to work with a basic RNN\n",
        "tmp_x = pad(preproc_english_sentences, max_french_sequence_length)\n",
        "tmp_x = tmp_x.reshape((-1, preproc_french_sentences.shape[-2], 1))  # reshape as 3D (batchsize, timesteps, 1) for LSTM input\n",
        "\n",
        "# Train the neural network\n",
        "simple_rnn_model = simple_model(\n",
        "    tmp_x.shape,\n",
        "    max_french_sequence_length,\n",
        "    english_vocab_size,\n",
        "    french_vocab_size)\n",
        "\n",
        "simple_rnn_model.summary()\n",
        "\n",
        "simple_rnn_model.fit(tmp_x, preproc_french_sentences, batch_size=1024, epochs=20, validation_split=0.2)"
      ]
    },
    {
      "cell_type": "code",
      "execution_count": null,
      "metadata": {
        "id": "D1ya0NGEkk_l"
      },
      "outputs": [],
      "source": [
        "def translate(prediction, gold_standard):\n",
        "    \n",
        "    translation = logits_to_text(prediction[0], french_tokenizer)\n",
        "    standard = ' '.join(token_to_words(gold_standard[0][:,0],french_tokenizer)) \n",
        "    print('---- Gold standard ----')\n",
        "    print(standard)\n",
        "    print()\n",
        "    print('---- Prediction ----')\n",
        "    for w_t, w_s in zip(translation.split(), standard.split()):\n",
        "        if w_t == w_s:\n",
        "            print('\\033[0;30;0m','{}'.format(w_t), end='')\n",
        "        else:\n",
        "            print('\\033[0;31;47m', w_t, end='')\n",
        "    print()"
      ]
    },
    {
      "cell_type": "code",
      "execution_count": null,
      "metadata": {
        "colab": {
          "base_uri": "https://localhost:8080/"
        },
        "id": "NRyL2lj1kk_l",
        "outputId": "001f2a12-ce77-48bc-8ea1-d248723cea6a"
      },
      "outputs": [
        {
          "name": "stdout",
          "output_type": "stream",
          "text": [
            "---- Original ----\n",
            "new jersey is sometimes quiet during autumn and it is snowy in april\n",
            "\n",
            "1/1 [==============================] - 1s 549ms/step\n",
            "---- Gold standard ----\n",
            "new jersey est parfois calme pendant l' automne et il est neigeux en avril\n",
            "\n",
            "---- Prediction ----\n",
            "\u001b[0;30;0m new\u001b[0;30;0m jersey\u001b[0;30;0m est\u001b[0;30;0m parfois\u001b[0;30;0m calme\u001b[0;31;47m en\u001b[0;30;0m l'\u001b[0;31;47m et\u001b[0;31;47m il\u001b[0;31;47m est\u001b[0;30;0m est\u001b[0;31;47m en\u001b[0;30;0m en\n"
          ]
        }
      ],
      "source": [
        "# Print prediction(s)\n",
        "print('---- Original ----')\n",
        "print(' '.join(token_to_words(tmp_x[:1][0][:,0],english_tokenizer) ))\n",
        "print()\n",
        "translate(simple_rnn_model.predict(tmp_x[:1]), preproc_french_sentences[:1])"
      ]
    },
    {
      "cell_type": "code",
      "execution_count": null,
      "metadata": {
        "id": "Mz56TLf-0rrN"
      },
      "outputs": [],
      "source": []
    },
    {
      "cell_type": "markdown",
      "metadata": {
        "id": "QeoEGdoUkk_l"
      },
      "source": [
        "### Model 2: Embedding (IMPLEMENTATION)\n",
        " RNN model using embedding."
      ]
    },
    {
      "cell_type": "markdown",
      "metadata": {
        "id": "OZEUPhL_kk_l"
      },
      "source": [
        "#### Inputs/Outputs shape embedding RNN\n",
        "- Input shape to Embedding layer (batchsize, input_length ie timesteps). the timesteps = length of the sequences\n",
        "- Input to the Embedding layer is vector of vocab_size for each token, converted into vector of embed_dim size\n",
        "- Embeddings output_shape is (None, sequence_length, embbed_dim). This is 3D expected by LSTM !\n",
        "- output shape LSTM (None, timesteps = sequence_length, num_units). Return_sequence activated to return output at each timestep\n",
        "- Use of TimeDistributed wrapper over Dense(target_vocab_size) to process each timestep\n",
        "- for each time step, Dense outputs a probability distribution over target_vocab to predict next word"
      ]
    },
    {
      "cell_type": "code",
      "execution_count": null,
      "metadata": {
        "colab": {
          "base_uri": "https://localhost:8080/"
        },
        "id": "iPSOVrbMkk_m",
        "outputId": "cbcd7084-41c8-4b3c-9b18-86167eb72325",
        "scrolled": false
      },
      "outputs": [
        {
          "name": "stdout",
          "output_type": "stream",
          "text": [
            "Model: \"Embedding_LSTM\"\n",
            "_________________________________________________________________\n",
            " Layer (type)                Output Shape              Param #   \n",
            "=================================================================\n",
            " input_layer (InputLayer)    [(None, 21)]              0         \n",
            "                                                                 \n",
            " Embedding_layer (Embedding)  (None, 21, 256)          50944     \n",
            "                                                                 \n",
            " LSTM_layer (LSTM)           (None, 21, 64)            82176     \n",
            "                                                                 \n",
            " Dense_layer (TimeDistribute  (None, 21, 344)          22360     \n",
            " d)                                                              \n",
            "                                                                 \n",
            "=================================================================\n",
            "Total params: 155,480\n",
            "Trainable params: 155,480\n",
            "Non-trainable params: 0\n",
            "_________________________________________________________________\n",
            "Epoch 1/20\n",
            "108/108 [==============================] - 7s 43ms/step - loss: 3.5505 - accuracy: 0.4058 - val_loss: nan - val_accuracy: 0.4099\n",
            "Epoch 2/20\n",
            "108/108 [==============================] - 2s 18ms/step - loss: 2.3921 - accuracy: 0.4871 - val_loss: nan - val_accuracy: 0.5401\n",
            "Epoch 3/20\n",
            "108/108 [==============================] - 2s 22ms/step - loss: 1.7939 - accuracy: 0.5844 - val_loss: nan - val_accuracy: 0.6357\n",
            "Epoch 4/20\n",
            "108/108 [==============================] - 2s 23ms/step - loss: 1.3513 - accuracy: 0.6669 - val_loss: nan - val_accuracy: 0.7030\n",
            "Epoch 5/20\n",
            "108/108 [==============================] - 2s 21ms/step - loss: 1.0435 - accuracy: 0.7348 - val_loss: nan - val_accuracy: 0.7614\n",
            "Epoch 6/20\n",
            "108/108 [==============================] - 2s 18ms/step - loss: 0.8516 - accuracy: 0.7754 - val_loss: nan - val_accuracy: 0.7892\n",
            "Epoch 7/20\n",
            "108/108 [==============================] - 2s 19ms/step - loss: 0.7388 - accuracy: 0.7982 - val_loss: nan - val_accuracy: 0.8082\n",
            "Epoch 8/20\n",
            "108/108 [==============================] - 2s 18ms/step - loss: 0.6622 - accuracy: 0.8144 - val_loss: nan - val_accuracy: 0.8210\n",
            "Epoch 9/20\n",
            "108/108 [==============================] - 2s 19ms/step - loss: 0.6057 - accuracy: 0.8262 - val_loss: nan - val_accuracy: 0.8339\n",
            "Epoch 10/20\n",
            "108/108 [==============================] - 2s 18ms/step - loss: 0.5599 - accuracy: 0.8374 - val_loss: nan - val_accuracy: 0.8431\n",
            "Epoch 11/20\n",
            "108/108 [==============================] - 2s 22ms/step - loss: 0.5226 - accuracy: 0.8466 - val_loss: nan - val_accuracy: 0.8518\n",
            "Epoch 12/20\n",
            "108/108 [==============================] - 2s 19ms/step - loss: 0.4923 - accuracy: 0.8545 - val_loss: nan - val_accuracy: 0.8584\n",
            "Epoch 13/20\n",
            "108/108 [==============================] - 2s 22ms/step - loss: 0.4656 - accuracy: 0.8614 - val_loss: nan - val_accuracy: 0.8638\n",
            "Epoch 14/20\n",
            "108/108 [==============================] - 2s 17ms/step - loss: 0.4442 - accuracy: 0.8671 - val_loss: nan - val_accuracy: 0.8696\n",
            "Epoch 15/20\n",
            "108/108 [==============================] - 2s 19ms/step - loss: 0.4255 - accuracy: 0.8723 - val_loss: nan - val_accuracy: 0.8756\n",
            "Epoch 16/20\n",
            "108/108 [==============================] - 2s 18ms/step - loss: 0.4089 - accuracy: 0.8770 - val_loss: nan - val_accuracy: 0.8780\n",
            "Epoch 17/20\n",
            "108/108 [==============================] - 2s 18ms/step - loss: 0.3957 - accuracy: 0.8806 - val_loss: nan - val_accuracy: 0.8832\n",
            "Epoch 18/20\n",
            "108/108 [==============================] - 2s 18ms/step - loss: 0.3816 - accuracy: 0.8848 - val_loss: nan - val_accuracy: 0.8854\n",
            "Epoch 19/20\n",
            "108/108 [==============================] - 2s 22ms/step - loss: 0.3709 - accuracy: 0.8875 - val_loss: nan - val_accuracy: 0.8889\n",
            "Epoch 20/20\n",
            "108/108 [==============================] - 2s 19ms/step - loss: 0.3607 - accuracy: 0.8900 - val_loss: nan - val_accuracy: 0.8902\n"
          ]
        },
        {
          "data": {
            "text/plain": [
              "<keras.callbacks.History at 0x7f9984150be0>"
            ]
          },
          "execution_count": 51,
          "metadata": {},
          "output_type": "execute_result"
        }
      ],
      "source": [
        "def embed_model(input_shape, output_sequence_length, english_vocab_size, french_vocab_size):\n",
        "    \"\"\"\n",
        "    Build and train a RNN model using word embedding on x and y\n",
        "    :param input_shape: Tuple of input shape\n",
        "    :param output_sequence_length: Length of output sequence\n",
        "    :param english_vocab_size: Number of unique English words in the dataset\n",
        "    :param french_vocab_size: Number of unique French words in the dataset\n",
        "    :return: Keras model built, but not trained\n",
        "    \"\"\"\n",
        "    # TODO: Implement\n",
        "    \n",
        "    learning_rate = 0.001\n",
        "    embedding_size = 256\n",
        "    \n",
        "    english_input = Input(shape=input_shape[1:], name=\"input_layer\")   # Input shape (,seq_length)\n",
        "    \n",
        "    embeddings = Embedding(input_dim = english_vocab_size, output_dim = embedding_size, \n",
        "                           input_length= output_sequence_length, name=\"Embedding_layer\")(english_input)\n",
        "    \n",
        "    x = LSTM(64, return_sequences=True, activation=\"tanh\", name=\"LSTM_layer\")(embeddings)\n",
        "    \n",
        "    preds = TimeDistributed(Dense(french_vocab_size, activation=\"softmax\"), name=\"Dense_layer\")(x)\n",
        "    \n",
        "    model = Model(inputs=english_input, outputs=preds, name='Embedding_LSTM')\n",
        "    \n",
        "    model.compile(loss=sparse_categorical_crossentropy,\n",
        "                  optimizer=Adam(learning_rate),\n",
        "                  metrics=['accuracy'])\n",
        "    \n",
        "    return model\n",
        "\n",
        "# tests.test_embed_model(embed_model)\n",
        "\n",
        "# TODO: Reshape the input\n",
        "tmp_x = pad(preproc_english_sentences, max_french_sequence_length)\n",
        "tmp_x = tmp_x.reshape((-1, preproc_french_sentences.shape[-2]))    # reshaped to (batchsize, seq_length) for Embedding input\n",
        "\n",
        "# Train the neural network\n",
        "embed_rnn_model = embed_model(\n",
        "    tmp_x.shape,\n",
        "    max_french_sequence_length,\n",
        "    english_vocab_size,\n",
        "    french_vocab_size)\n",
        "\n",
        "embed_rnn_model.summary()\n",
        "    \n",
        "embed_rnn_model.fit(tmp_x, preproc_french_sentences, batch_size=1024, epochs=20, validation_split=0.2)"
      ]
    },
    {
      "cell_type": "code",
      "execution_count": null,
      "metadata": {
        "colab": {
          "base_uri": "https://localhost:8080/"
        },
        "id": "wVIliG3-kk_m",
        "outputId": "79b3344f-0fff-4c6e-b626-cc52bcb8e160"
      },
      "outputs": [
        {
          "name": "stdout",
          "output_type": "stream",
          "text": [
            "---- Original ----\n",
            "new jersey is sometimes quiet during autumn and it is snowy in april\n",
            "\n",
            "1/1 [==============================] - 1s 545ms/step\n",
            "---- Gold standard ----\n",
            "new jersey est parfois calme pendant l' automne et il est neigeux en avril\n",
            "\n",
            "---- Prediction ----\n",
            "\u001b[0;30;0m new\u001b[0;30;0m jersey\u001b[0;30;0m est\u001b[0;30;0m parfois\u001b[0;30;0m calme\u001b[0;31;47m en\u001b[0;31;47m l'automne\u001b[0;31;47m et\u001b[0;31;47m il\u001b[0;31;47m est\u001b[0;31;47m neigeux\u001b[0;31;47m en\u001b[0;31;47m avril\n"
          ]
        }
      ],
      "source": [
        "# Print prediction(s)\n",
        "print('---- Original ----')\n",
        "print(' '.join(token_to_words(tmp_x[:1][0],english_tokenizer) ))\n",
        "print()\n",
        "translate(embed_rnn_model.predict(tmp_x[:1]), preproc_french_sentences[:1])"
      ]
    },
    {
      "cell_type": "markdown",
      "metadata": {
        "id": "_qHf26uzkk_m"
      },
      "source": [
        "### Model 3: Bidirectional RNNs (IMPLEMENTATION)\n",
        "One restriction of a RNN is that it can't see the future input, only the past.  This is where bidirectional recurrent neural networks come in.  They are able to see the future data."
      ]
    },
    {
      "cell_type": "markdown",
      "metadata": {
        "id": "ubusX1JGkk_m"
      },
      "source": [
        "#### Inputs/Outputs shape Bidirectional RNN\n",
        "- LSTM or GRU Input shape (batchsize, timesteps, 1). The timesteps is the length of the input sequences (15 for en, 21 for fr)\n",
        "- output shape Bidir-LSTM (None, timesteps = sequence_length, 2 x num_units) because both outputs are concatenated.\n",
        "- Return_sequence activated to return output at each timestep\n",
        "- Use of TimeDistributed wrapper over Dense(target_vocab_size) to process each timestep\n",
        "- for each time step, Dense outputs a probability distribution over target_vocab to predict next word"
      ]
    },
    {
      "cell_type": "code",
      "execution_count": null,
      "metadata": {
        "colab": {
          "base_uri": "https://localhost:8080/"
        },
        "id": "yiBT5qwYkk_n",
        "outputId": "48f79e3f-f3e6-469f-ba0b-4f84d196b7f2",
        "scrolled": false
      },
      "outputs": [
        {
          "name": "stdout",
          "output_type": "stream",
          "text": [
            "Model: \"Bidir_LSTM\"\n",
            "_________________________________________________________________\n",
            " Layer (type)                Output Shape              Param #   \n",
            "=================================================================\n",
            " input_layer (InputLayer)    [(None, 21, 1)]           0         \n",
            "                                                                 \n",
            " bidirectional_1 (Bidirectio  (None, 21, 128)          33792     \n",
            " nal)                                                            \n",
            "                                                                 \n",
            " Dense_layer (TimeDistribute  (None, 21, 344)          44376     \n",
            " d)                                                              \n",
            "                                                                 \n",
            "=================================================================\n",
            "Total params: 78,168\n",
            "Trainable params: 78,168\n",
            "Non-trainable params: 0\n",
            "_________________________________________________________________\n",
            "Epoch 1/20\n",
            "108/108 [==============================] - 6s 26ms/step - loss: 3.1938 - accuracy: 0.4545 - val_loss: nan - val_accuracy: 0.4950\n",
            "Epoch 2/20\n",
            "108/108 [==============================] - 2s 18ms/step - loss: 1.9657 - accuracy: 0.5371 - val_loss: nan - val_accuracy: 0.5708\n",
            "Epoch 3/20\n",
            "108/108 [==============================] - 2s 20ms/step - loss: 1.6519 - accuracy: 0.5897 - val_loss: nan - val_accuracy: 0.6022\n",
            "Epoch 4/20\n",
            "108/108 [==============================] - 2s 21ms/step - loss: 1.5041 - accuracy: 0.6084 - val_loss: nan - val_accuracy: 0.6156\n",
            "Epoch 5/20\n",
            "108/108 [==============================] - 2s 21ms/step - loss: 1.4174 - accuracy: 0.6204 - val_loss: nan - val_accuracy: 0.6262\n",
            "Epoch 6/20\n",
            "108/108 [==============================] - 2s 19ms/step - loss: 1.3554 - accuracy: 0.6295 - val_loss: nan - val_accuracy: 0.6344\n",
            "Epoch 7/20\n",
            "108/108 [==============================] - 2s 19ms/step - loss: 1.3078 - accuracy: 0.6369 - val_loss: nan - val_accuracy: 0.6410\n",
            "Epoch 8/20\n",
            "108/108 [==============================] - 2s 19ms/step - loss: 1.2693 - accuracy: 0.6448 - val_loss: nan - val_accuracy: 0.6501\n",
            "Epoch 9/20\n",
            "108/108 [==============================] - 2s 19ms/step - loss: 1.2375 - accuracy: 0.6515 - val_loss: nan - val_accuracy: 0.6535\n",
            "Epoch 10/20\n",
            "108/108 [==============================] - 2s 19ms/step - loss: 1.2099 - accuracy: 0.6558 - val_loss: nan - val_accuracy: 0.6587\n",
            "Epoch 11/20\n",
            "108/108 [==============================] - 2s 21ms/step - loss: 1.1853 - accuracy: 0.6597 - val_loss: nan - val_accuracy: 0.6611\n",
            "Epoch 12/20\n",
            "108/108 [==============================] - 2s 21ms/step - loss: 1.1627 - accuracy: 0.6637 - val_loss: nan - val_accuracy: 0.6659\n",
            "Epoch 13/20\n",
            "108/108 [==============================] - 2s 21ms/step - loss: 1.1421 - accuracy: 0.6673 - val_loss: nan - val_accuracy: 0.6710\n",
            "Epoch 14/20\n",
            "108/108 [==============================] - 2s 19ms/step - loss: 1.1227 - accuracy: 0.6709 - val_loss: nan - val_accuracy: 0.6711\n",
            "Epoch 15/20\n",
            "108/108 [==============================] - 2s 19ms/step - loss: 1.1058 - accuracy: 0.6739 - val_loss: nan - val_accuracy: 0.6756\n",
            "Epoch 16/20\n",
            "108/108 [==============================] - 2s 19ms/step - loss: 1.0901 - accuracy: 0.6774 - val_loss: nan - val_accuracy: 0.6793\n",
            "Epoch 17/20\n",
            "108/108 [==============================] - 2s 19ms/step - loss: 1.0760 - accuracy: 0.6805 - val_loss: nan - val_accuracy: 0.6810\n",
            "Epoch 18/20\n",
            "108/108 [==============================] - 2s 20ms/step - loss: 1.0639 - accuracy: 0.6827 - val_loss: nan - val_accuracy: 0.6844\n",
            "Epoch 19/20\n",
            "108/108 [==============================] - 2s 22ms/step - loss: 1.0516 - accuracy: 0.6850 - val_loss: nan - val_accuracy: 0.6870\n",
            "Epoch 20/20\n",
            "108/108 [==============================] - 2s 21ms/step - loss: 1.0407 - accuracy: 0.6868 - val_loss: nan - val_accuracy: 0.6873\n"
          ]
        },
        {
          "data": {
            "text/plain": [
              "<keras.callbacks.History at 0x7f99703531f0>"
            ]
          },
          "execution_count": 53,
          "metadata": {},
          "output_type": "execute_result"
        }
      ],
      "source": [
        "def bd_model(input_shape, output_sequence_length, english_vocab_size, french_vocab_size):\n",
        "    \"\"\"\n",
        "    Build and train a bidirectional RNN model on x and y\n",
        "    :param input_shape: Tuple of input shape\n",
        "    :param output_sequence_length: Length of output sequence\n",
        "    :param english_vocab_size: Number of unique English words in the dataset\n",
        "    :param french_vocab_size: Number of unique French words in the dataset\n",
        "    :return: Keras model built, but not trained\n",
        "    \"\"\"\n",
        "    # TODO: Implement\n",
        "    \n",
        "    learning_rate = 0.001\n",
        "    embedding_size = 256\n",
        "    \n",
        "    english_input = Input(shape=input_shape[1:], name=\"input_layer\")  # input to LSTM shape (batch, seq_length, 1)\n",
        "    \n",
        "    x = Bidirectional(LSTM(64, return_sequences=True, activation=\"tanh\", name=\"Bidir_LSTM_layer\"), input_shape=input_shape[1:])(english_input)\n",
        "    \n",
        "    preds = TimeDistributed(Dense(french_vocab_size, activation=\"softmax\"), name=\"Dense_layer\")(x)\n",
        "    \n",
        "    model = Model(inputs=english_input, outputs=preds, name='Bidir_LSTM')\n",
        "    \n",
        "    model.compile(loss=sparse_categorical_crossentropy,\n",
        "                  optimizer=Adam(learning_rate),\n",
        "                  metrics=['accuracy'])\n",
        "    \n",
        "    return model\n",
        "\n",
        "# tests.test_bd_model(bd_model)\n",
        "\n",
        "# TODO: Train and Print prediction(s)\n",
        "\n",
        "# TODO: Reshape the input\n",
        "tmp_x = pad(preproc_english_sentences, max_french_sequence_length)\n",
        "tmp_x = tmp_x.reshape((-1, preproc_french_sentences.shape[-2],1))  # reshape to (batch, seq_length, 1) for LSTM input\n",
        "\n",
        "# Train the neural network\n",
        "bd_rnn_model = bd_model(\n",
        "                        tmp_x.shape,\n",
        "                        max_french_sequence_length,\n",
        "                        english_vocab_size,\n",
        "                        french_vocab_size)\n",
        "\n",
        "bd_rnn_model.summary()\n",
        "    \n",
        "bd_rnn_model.fit(tmp_x, preproc_french_sentences, batch_size=1024, epochs=20, validation_split=0.2)"
      ]
    },
    {
      "cell_type": "code",
      "execution_count": null,
      "metadata": {
        "colab": {
          "base_uri": "https://localhost:8080/"
        },
        "id": "VrTsmpvVkk_n",
        "outputId": "99ffbcea-e868-441e-8a76-5676cc6a7594"
      },
      "outputs": [
        {
          "name": "stdout",
          "output_type": "stream",
          "text": [
            "---- Original ----\n",
            "new jersey is sometimes quiet during autumn and it is snowy in april\n",
            "\n"
          ]
        },
        {
          "name": "stderr",
          "output_type": "stream",
          "text": [
            "WARNING:tensorflow:5 out of the last 5 calls to <function Model.make_predict_function.<locals>.predict_function at 0x7f99707f9b80> triggered tf.function retracing. Tracing is expensive and the excessive number of tracings could be due to (1) creating @tf.function repeatedly in a loop, (2) passing tensors with different shapes, (3) passing Python objects instead of tensors. For (1), please define your @tf.function outside of the loop. For (2), @tf.function has reduce_retracing=True option that can avoid unnecessary retracing. For (3), please refer to https://www.tensorflow.org/guide/function#controlling_retracing and https://www.tensorflow.org/api_docs/python/tf/function for  more details.\n"
          ]
        },
        {
          "name": "stdout",
          "output_type": "stream",
          "text": [
            "1/1 [==============================] - 1s 787ms/step\n",
            "---- Gold standard ----\n",
            "new jersey est parfois calme pendant l' automne et il est neigeux en avril\n",
            "\n",
            "---- Prediction ----\n",
            "\u001b[0;30;0m new\u001b[0;30;0m jersey\u001b[0;30;0m est\u001b[0;30;0m parfois\u001b[0;30;0m calme\u001b[0;31;47m en\u001b[0;30;0m l'\u001b[0;31;47m et\u001b[0;31;47m il\u001b[0;30;0m il\u001b[0;30;0m est\u001b[0;31;47m en\u001b[0;30;0m en\n"
          ]
        }
      ],
      "source": [
        "# Print prediction(s)\n",
        "print('---- Original ----')\n",
        "print(' '.join(token_to_words(tmp_x[:1][0][:,0],english_tokenizer) ))\n",
        "print()\n",
        "translate(bd_rnn_model.predict(tmp_x[:1]), preproc_french_sentences[:1])"
      ]
    },
    {
      "cell_type": "markdown",
      "metadata": {
        "id": "jCs1Mfhvkk_n"
      },
      "source": [
        "### Model 3 bis: Embedding Bidirectional RNNs (IMPLEMENTATION)\n",
        "\n",
        "#### Inputs/Outputs shape Embedding Bidirectional RNN\n",
        "- Embedding requires input shape (batchsize, input_length) and outputs (batchsize, input_length, embedded_dim)\n",
        "- this shape is OK for input to LSTM (3D)\n",
        "- LSTM or GRU Input shape (batchsize, timesteps, embedded_dim). Return_sequence activated to return output at each timestep\n",
        "- output shape Bidir-LSTM (None, timesteps = sequence_length, 2 x LSTM num_units) because both outputs are concatenated.\n",
        "- Use of TimeDistributed wrapper over Dense(target_vocab_size) to process each timestep\n",
        "- for each time step, Dense outputs a probability distribution over target_vocab to predict next word"
      ]
    },
    {
      "cell_type": "code",
      "execution_count": null,
      "metadata": {
        "colab": {
          "base_uri": "https://localhost:8080/"
        },
        "id": "O06FRdZHkk_n",
        "outputId": "deb9a5d1-db92-4a7a-e033-362177d914db",
        "scrolled": false
      },
      "outputs": [
        {
          "name": "stdout",
          "output_type": "stream",
          "text": [
            "Model: \"Embedding_Bidir_LSTM\"\n",
            "_________________________________________________________________\n",
            " Layer (type)                Output Shape              Param #   \n",
            "=================================================================\n",
            " input_layer (InputLayer)    [(None, 21)]              0         \n",
            "                                                                 \n",
            " Embedding_layer (Embedding)  (None, 21, 256)          50944     \n",
            "                                                                 \n",
            " Bidir_LSTM_layer (Bidirecti  (None, 21, 128)          164352    \n",
            " onal)                                                           \n",
            "                                                                 \n",
            " Dense_layer (TimeDistribute  (None, 21, 344)          44376     \n",
            " d)                                                              \n",
            "                                                                 \n",
            "=================================================================\n",
            "Total params: 259,672\n",
            "Trainable params: 259,672\n",
            "Non-trainable params: 0\n",
            "_________________________________________________________________\n",
            "Epoch 1/20\n",
            "108/108 [==============================] - 11s 52ms/step - loss: 3.1638 - accuracy: 0.4469 - val_loss: nan - val_accuracy: 0.5015\n",
            "Epoch 2/20\n",
            "108/108 [==============================] - 3s 25ms/step - loss: 1.9351 - accuracy: 0.5511 - val_loss: nan - val_accuracy: 0.6181\n",
            "Epoch 3/20\n",
            "108/108 [==============================] - 3s 28ms/step - loss: 1.3038 - accuracy: 0.6697 - val_loss: nan - val_accuracy: 0.7288\n",
            "Epoch 4/20\n",
            "108/108 [==============================] - 3s 30ms/step - loss: 0.9015 - accuracy: 0.7571 - val_loss: nan - val_accuracy: 0.7788\n",
            "Epoch 5/20\n",
            "108/108 [==============================] - 3s 26ms/step - loss: 0.7126 - accuracy: 0.7947 - val_loss: nan - val_accuracy: 0.8113\n",
            "Epoch 6/20\n",
            "108/108 [==============================] - 3s 24ms/step - loss: 0.6035 - accuracy: 0.8228 - val_loss: nan - val_accuracy: 0.8365\n",
            "Epoch 7/20\n",
            "108/108 [==============================] - 3s 26ms/step - loss: 0.5299 - accuracy: 0.8444 - val_loss: nan - val_accuracy: 0.8528\n",
            "Epoch 8/20\n",
            "108/108 [==============================] - 3s 25ms/step - loss: 0.4756 - accuracy: 0.8600 - val_loss: nan - val_accuracy: 0.8671\n",
            "Epoch 9/20\n",
            "108/108 [==============================] - 3s 26ms/step - loss: 0.4334 - accuracy: 0.8718 - val_loss: nan - val_accuracy: 0.8770\n",
            "Epoch 10/20\n",
            "108/108 [==============================] - 3s 26ms/step - loss: 0.3989 - accuracy: 0.8817 - val_loss: nan - val_accuracy: 0.8859\n",
            "Epoch 11/20\n",
            "108/108 [==============================] - 3s 25ms/step - loss: 0.3704 - accuracy: 0.8901 - val_loss: nan - val_accuracy: 0.8934\n",
            "Epoch 12/20\n",
            "108/108 [==============================] - 3s 25ms/step - loss: 0.3456 - accuracy: 0.8975 - val_loss: nan - val_accuracy: 0.8979\n",
            "Epoch 13/20\n",
            "108/108 [==============================] - 3s 24ms/step - loss: 0.3244 - accuracy: 0.9039 - val_loss: nan - val_accuracy: 0.9068\n",
            "Epoch 14/20\n",
            "108/108 [==============================] - 3s 25ms/step - loss: 0.3047 - accuracy: 0.9102 - val_loss: nan - val_accuracy: 0.9112\n",
            "Epoch 15/20\n",
            "108/108 [==============================] - 3s 27ms/step - loss: 0.2883 - accuracy: 0.9151 - val_loss: nan - val_accuracy: 0.9161\n",
            "Epoch 16/20\n",
            "108/108 [==============================] - 3s 26ms/step - loss: 0.2742 - accuracy: 0.9194 - val_loss: nan - val_accuracy: 0.9207\n",
            "Epoch 17/20\n",
            "108/108 [==============================] - 3s 25ms/step - loss: 0.2606 - accuracy: 0.9238 - val_loss: nan - val_accuracy: 0.9248\n",
            "Epoch 18/20\n",
            "108/108 [==============================] - 3s 26ms/step - loss: 0.2493 - accuracy: 0.9275 - val_loss: nan - val_accuracy: 0.9268\n",
            "Epoch 19/20\n",
            "108/108 [==============================] - 3s 27ms/step - loss: 0.2387 - accuracy: 0.9308 - val_loss: nan - val_accuracy: 0.9311\n",
            "Epoch 20/20\n",
            "108/108 [==============================] - 3s 26ms/step - loss: 0.2285 - accuracy: 0.9341 - val_loss: nan - val_accuracy: 0.9345\n"
          ]
        },
        {
          "data": {
            "text/plain": [
              "<keras.callbacks.History at 0x7f99700c3c10>"
            ]
          },
          "execution_count": 55,
          "metadata": {},
          "output_type": "execute_result"
        }
      ],
      "source": [
        "def emb_bd_model(input_shape, output_sequence_length, english_vocab_size, french_vocab_size):\n",
        "    \"\"\"\n",
        "    Build and train a bidirectional RNN model on x and y\n",
        "    :param input_shape: Tuple of input shape\n",
        "    :param output_sequence_length: Length of output sequence\n",
        "    :param english_vocab_size: Number of unique English words in the dataset\n",
        "    :param french_vocab_size: Number of unique French words in the dataset\n",
        "    :return: Keras model built, but not trained\n",
        "    \"\"\"\n",
        "    # TODO: Implement\n",
        "    \n",
        "    learning_rate = 0.001\n",
        "    embedding_size = 256\n",
        "    \n",
        "    english_input = Input(shape=input_shape[1:], name=\"input_layer\")  # Embedding input (batch, seq_length)\n",
        "    \n",
        "    embeddings = Embedding(input_dim = english_vocab_size, output_dim = embedding_size, \n",
        "                           input_length= output_sequence_length, name=\"Embedding_layer\")(english_input)\n",
        "    \n",
        "    # input shape to LSTM (batchsize, seq_length, embedding_dim) output shape: (batchsize, seq_length, units=64x2)\n",
        "    x = Bidirectional(LSTM(64, return_sequences=True, activation=\"tanh\"), name=\"Bidir_LSTM_layer\")(embeddings)\n",
        "    \n",
        "    preds = TimeDistributed(Dense(french_vocab_size, activation=\"softmax\"), name=\"Dense_layer\")(x)\n",
        "    \n",
        "    model = Model(inputs=english_input, outputs=preds, name='Embedding_Bidir_LSTM')\n",
        "    \n",
        "    model.compile(loss=sparse_categorical_crossentropy,\n",
        "                  optimizer=Adam(learning_rate),\n",
        "                  metrics=['accuracy'])\n",
        "   \n",
        "    return model\n",
        "\n",
        "#tests.test_bd_model(bd_model)\n",
        "\n",
        "# TODO: Train and Print prediction(s)\n",
        "\n",
        "# TODO: Reshape the input\n",
        "tmp_x = pad(preproc_english_sentences, max_french_sequence_length)\n",
        "tmp_x = tmp_x.reshape((-1, preproc_french_sentences.shape[-2]))    # reshapped for Embedding input (batch, seq_length)\n",
        "\n",
        "# Train the neural network\n",
        "emb_bd_rnn_model = emb_bd_model(\n",
        "                        tmp_x.shape,\n",
        "                        max_french_sequence_length,\n",
        "                        english_vocab_size,\n",
        "                        french_vocab_size)\n",
        "\n",
        "emb_bd_rnn_model.summary()\n",
        "\n",
        "emb_bd_rnn_model.fit(tmp_x, preproc_french_sentences, batch_size=1024, epochs=20, validation_split=0.2)"
      ]
    },
    {
      "cell_type": "code",
      "execution_count": null,
      "metadata": {
        "colab": {
          "base_uri": "https://localhost:8080/"
        },
        "id": "rFIm0Dghkk_o",
        "outputId": "1832ee72-bb95-4287-b373-53f831ff257a"
      },
      "outputs": [
        {
          "name": "stdout",
          "output_type": "stream",
          "text": [
            "---- Original ----\n",
            "new jersey is sometimes quiet during autumn and it is snowy in april\n",
            "\n"
          ]
        },
        {
          "name": "stderr",
          "output_type": "stream",
          "text": [
            "WARNING:tensorflow:6 out of the last 6 calls to <function Model.make_predict_function.<locals>.predict_function at 0x7f99701ae1f0> triggered tf.function retracing. Tracing is expensive and the excessive number of tracings could be due to (1) creating @tf.function repeatedly in a loop, (2) passing tensors with different shapes, (3) passing Python objects instead of tensors. For (1), please define your @tf.function outside of the loop. For (2), @tf.function has reduce_retracing=True option that can avoid unnecessary retracing. For (3), please refer to https://www.tensorflow.org/guide/function#controlling_retracing and https://www.tensorflow.org/api_docs/python/tf/function for  more details.\n"
          ]
        },
        {
          "name": "stdout",
          "output_type": "stream",
          "text": [
            "1/1 [==============================] - 1s 961ms/step\n",
            "---- Gold standard ----\n",
            "new jersey est parfois calme pendant l' automne et il est neigeux en avril\n",
            "\n",
            "---- Prediction ----\n",
            "\u001b[0;30;0m new\u001b[0;30;0m jersey\u001b[0;30;0m est\u001b[0;30;0m parfois\u001b[0;30;0m calme\u001b[0;30;0m pendant\u001b[0;30;0m l'\u001b[0;31;47m de\u001b[0;30;0m et\u001b[0;30;0m il\u001b[0;30;0m est\u001b[0;30;0m neigeux\u001b[0;30;0m en\u001b[0;31;47m en\n"
          ]
        }
      ],
      "source": [
        "# Print prediction(s)\n",
        "print('---- Original ----')\n",
        "print(' '.join(token_to_words(tmp_x[:1][0],english_tokenizer) ))\n",
        "print()\n",
        "translate(emb_bd_rnn_model.predict(tmp_x[:1]), preproc_french_sentences[:1])"
      ]
    },
    {
      "cell_type": "code",
      "execution_count": null,
      "metadata": {
        "id": "MiJt-8irkk_y"
      },
      "outputs": [],
      "source": []
    }
  ],
  "metadata": {
    "accelerator": "GPU",
    "colab": {
      "provenance": []
    },
    "gpuClass": "standard",
    "kernelspec": {
      "display_name": "nlp_py37",
      "language": "python",
      "name": "nlp_py37"
    },
    "language_info": {
      "codemirror_mode": {
        "name": "ipython",
        "version": 3
      },
      "file_extension": ".py",
      "mimetype": "text/x-python",
      "name": "python",
      "nbconvert_exporter": "python",
      "pygments_lexer": "ipython3",
      "version": "3.7.9"
    }
  },
  "nbformat": 4,
  "nbformat_minor": 0
}
